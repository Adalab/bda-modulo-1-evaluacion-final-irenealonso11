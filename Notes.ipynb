{
 "cells": [
  {
   "cell_type": "markdown",
   "metadata": {},
   "source": [
    "La clase `TiendaOnline` debe tener los siguientes atributos:\n",
    "\n",
    "        1. `inventario` (lista de diccionarios): Un atributo para almacenar los productos en el inventario. Cada producto debe ser representado como un diccionario con las siguientes claves: `'nombre'`, `'precio'`, y `'cantidad'`. Al principio deberá ser una lista vacía. Ejemplo de como debería ser:\n",
    "\n",
    "            ```python\n",
    "            [{'nombre': 'Camisa', 'precio': 20, 'cantidad': 40},\n",
    "            {'nombre': 'Pantalón', 'precio': 30, 'cantidad': 30}]\n",
    "       \n",
    "        2. `clientes` (diccionario): Un atributo para llevar un registro de los clientes de la tienda. Cada cliente debe ser representado como un diccionario con las siguientes claves: `'nombre'` y `'email'`. Al inicio deberá ser un diccionario vacío. Además, cada cliente debe tener un historial de compras. Deberá parecerse a:\n",
    "\n",
    "            ```python\n",
    "            {'Cliente1': {'email': 'cliente1@email.com', 'compras': []},\n",
    "            'Cliente2': {'email': 'cliente2@email.com', 'compras': []}}\n",
    "            ```\n",
    "\n",
    "        3. `ventas_totales` (float): Un atributo para llevar un registro de las ventas totales de la tienda. Inicializalo con valor 0. \n",
    "            ```"
   ]
  },
  {
   "cell_type": "code",
   "execution_count": 15,
   "metadata": {},
   "outputs": [],
   "source": [
    "class TiendaOnline:\n",
    "    def __init__ (self):\n",
    "       \n",
    "        self.inventario = []\n",
    "        self.clientes = {}\n",
    "        self.ventas_totales = 0.00\n",
    "\n",
    "\n",
    "    def agregar_producto(self, nombre, precio, cantidad):\n",
    "\n",
    "        for producto in self.inventario:\n",
    "        #Verifica si el producto esta en el inventario.\n",
    "            if producto[\"nombre\"] == nombre:\n",
    "        #Si está en el inventario se actualiza.\n",
    "                producto[\"cantidad\"] += cantidad\n",
    "                print(f\"Cantidad de {nombre} actualizada.\")\n",
    "                return\n",
    "        #Hacemos diccionario, y agregamos al diccionario.\n",
    "        nuevo_producto = {\"nombre\": nombre , \"precio\": precio, \"cantidad\": cantidad}\n",
    "        \n",
    "        self.inventario.append(nuevo_producto)\n",
    "\n",
    "\n",
    "    def ver_inventario(self): \n",
    "        if not self.inventario:\n",
    "            print(\"El inventario está vacío.\")\n",
    "            return\n",
    "    \n",
    "            # Iterar sobre el inventario y mostrar los detalles de cada producto.\n",
    "        for producto in self.inventario:\n",
    "            print(f\"Nombre: {producto['nombre']}, Precio: ${producto['precio']}, Cantidad: {producto['cantidad']}\")\n",
    "\n",
    "    \n",
    "    def buscar_producto(nombre):\n",
    "   \n",
    "        for producto in self.inventario:\n",
    "            #Iteramos por el inventario para ver si está el producto.\n",
    "            if producto['nombre'].lower() == nombre.lower():\n",
    "                print(f\"Nombre: {producto['nombre']}, Precio: ${producto['precio']}, Cantidad: {producto['cantidad']}\")\n",
    "            return\n",
    "            print(\"Producto no encontrado.\")\n",
    "    \n",
    "\n",
    "    def actualizar_stock(nombre, cantidad):\n",
    "\n",
    "        for producto in self.inventario:\n",
    "            #Iteramos por inventario.\n",
    "            if producto['nombre'].lower() == nombre.lower():\n",
    "                producto['cantidad'] += cantidad\n",
    "                print(f\"Stock actualizado: {producto['nombre']} ahora tiene {producto['cantidad']} unidades.\")\n",
    "                return\n",
    "            print(f\"El producto '{nombre}' no está en el inventario.\")\n",
    "    \n",
    "\n",
    "    def eliminar_productos(nombre):\n",
    "    \n",
    "        for producto in self.inventario:\n",
    "            #Iteramos por el inventario para eliminarlo.\n",
    "            if producto [\"nombre\"].lower() == nombre.lower():\n",
    "                self.inventario.remove(producto)\n",
    "                print(\"El producto se ha eliminado\")\n",
    "            return\n",
    "        print(\"El producto no se ha encontrado\")\n",
    "    \n",
    "\n",
    "    def calcular_valor_inventario(inventario1):\n",
    "        valor_total = 0\n",
    "        # Iteramos sobre cada diccionario en la lista\n",
    "        for producto in inventario1:  \n",
    "            # Accedemos a 'precio' y 'cantidad'\n",
    "            valor_producto = producto['precio'] * producto['cantidad']  \n",
    "            # Sumamos el valor del producto al total\n",
    "            valor_total += valor_producto  \n",
    "        \n",
    "        return valor_total\n",
    "\n"
   ]
  },
  {
   "cell_type": "code",
   "execution_count": 16,
   "metadata": {},
   "outputs": [
    {
     "data": {
      "text/plain": [
       "[{'nombre': 'peras', 'precio': 2, 'cantidad': 420}]"
      ]
     },
     "execution_count": 16,
     "metadata": {},
     "output_type": "execute_result"
    }
   ],
   "source": [
    "tienda =TiendaOnline()\n",
    "tienda.agregar_producto (\"peras\", 2, 420)\n",
    "tienda.inventario\n",
    "tienda.inventario"
   ]
  },
  {
   "cell_type": "code",
   "execution_count": 155,
   "metadata": {},
   "outputs": [
    {
     "name": "stdout",
     "output_type": "stream",
     "text": [
      "Cantidad de peras actualizada.\n"
     ]
    },
    {
     "data": {
      "text/plain": [
       "[{'nombre': 'peras', 'precio': 2, 'cantidad': 450}]"
      ]
     },
     "execution_count": 155,
     "metadata": {},
     "output_type": "execute_result"
    }
   ],
   "source": [
    "tienda.agregar_producto(\"peras\", 2, 30)\n",
    "tienda.inventario"
   ]
  },
  {
   "cell_type": "code",
   "execution_count": 156,
   "metadata": {},
   "outputs": [],
   "source": [
    "tienda.agregar_producto(\"naranjas\", 4, 60)"
   ]
  },
  {
   "cell_type": "code",
   "execution_count": 161,
   "metadata": {},
   "outputs": [],
   "source": [
    "tienda.ver_inventario()"
   ]
  },
  {
   "cell_type": "markdown",
   "metadata": {},
   "source": [
    " 1. `agregar_producto(self, nombre, precio, cantidad)`: Este método agrega un producto al inventario o actualiza su cantidad si ya existe. Debe recibir el nombre, precio y cantidad del producto como parámetros. \n",
    "\n",
    "            - Itera a través del inventario y compara los nombres de los productos con el nombre proporcionado.\n",
    "\n",
    "            - Si el producto ya existe, actualiza la cantidad.\n",
    "\n",
    "            - Si no existe, agrega un nuevo producto al inventario."
   ]
  },
  {
   "cell_type": "code",
   "execution_count": 4,
   "metadata": {},
   "outputs": [],
   "source": [
    "inventario1 = []"
   ]
  },
  {
   "cell_type": "code",
   "execution_count": 5,
   "metadata": {},
   "outputs": [],
   "source": [
    "def agregar_producto(nombre, precio, cantidad):\n",
    "\n",
    "    for producto in inventario1:\n",
    "        #Verifica si el producto esta en el inventario.\n",
    "        if producto[\"nombre\"] == nombre:\n",
    "        #Si está en el inventario se actualiza.\n",
    "            producto[\"cantidad\"] += cantidad\n",
    "            print(f\"Cantidad de {nombre} actualizada.\")\n",
    "        return\n",
    "\n",
    "    nuevo_producto = {\"nombre\": nombre , \"precio\": precio, \"cantidad\": cantidad}\n",
    "    inventario1.append(nuevo_producto)\n"
   ]
  },
  {
   "cell_type": "code",
   "execution_count": 6,
   "metadata": {},
   "outputs": [],
   "source": [
    "agregar_producto(\"Manzanas\", 2, 30 )"
   ]
  },
  {
   "cell_type": "code",
   "execution_count": 7,
   "metadata": {},
   "outputs": [
    {
     "data": {
      "text/plain": [
       "[{'nombre': 'Manzanas', 'precio': 2, 'cantidad': 30}]"
      ]
     },
     "execution_count": 7,
     "metadata": {},
     "output_type": "execute_result"
    }
   ],
   "source": [
    "inventario1"
   ]
  },
  {
   "cell_type": "code",
   "execution_count": 8,
   "metadata": {},
   "outputs": [
    {
     "name": "stdout",
     "output_type": "stream",
     "text": [
      "Cantidad de Manzanas actualizada.\n"
     ]
    }
   ],
   "source": [
    "agregar_producto(\"Manzanas\", 2, 30 )"
   ]
  },
  {
   "cell_type": "code",
   "execution_count": 9,
   "metadata": {},
   "outputs": [
    {
     "data": {
      "text/plain": [
       "[{'nombre': 'Manzanas', 'precio': 2, 'cantidad': 60}]"
      ]
     },
     "execution_count": 9,
     "metadata": {},
     "output_type": "execute_result"
    }
   ],
   "source": [
    "inventario1"
   ]
  },
  {
   "cell_type": "code",
   "execution_count": 10,
   "metadata": {},
   "outputs": [],
   "source": [
    "agregar_producto(\"peras\", 2, 6)"
   ]
  },
  {
   "cell_type": "code",
   "execution_count": 11,
   "metadata": {},
   "outputs": [
    {
     "data": {
      "text/plain": [
       "[{'nombre': 'Manzanas', 'precio': 2, 'cantidad': 60}]"
      ]
     },
     "execution_count": 11,
     "metadata": {},
     "output_type": "execute_result"
    }
   ],
   "source": [
    "inventario1"
   ]
  },
  {
   "cell_type": "markdown",
   "metadata": {},
   "source": [
    "\n",
    "        2. `ver_inventario(self)`: Muestra el inventario de productos con sus detalles.\n",
    "\n",
    "            - Utiliza un bucle `for` para recorrer el inventario.\n",
    "\n",
    "            - Imprime los detalles (nombre, precio, cantidad) de cada producto.\n",
    "\n",
    "            - Debería verse:\n",
    "\n",
    "                ```python\n",
    "                Nombre: Camisa, Precio: $20, Cantidad: 50\n",
    "                Nombre: Pantalón, Precio: $30, Cantidad: 30\n",
    "                Nombre: Zapatos, Precio: $50, Cantidad: 40\n",
    "                Nombre: Camisa, Precio: $20, Cantidad: 50"
   ]
  },
  {
   "cell_type": "code",
   "execution_count": 12,
   "metadata": {},
   "outputs": [],
   "source": [
    "def ver_inventario(inventario1):\n",
    "    # Verificar si el inventario está vacío\n",
    "    if not inventario1:\n",
    "        print(\"El inventario está vacío.\")\n",
    "        return\n",
    "    \n",
    "    # Iterar sobre el inventario y mostrar los detalles de cada producto\n",
    "    for producto in inventario1:\n",
    "        print(f\"Nombre: {producto['nombre']}, Precio: ${producto['precio']}, Cantidad: {producto['cantidad']}\")\n",
    "\n"
   ]
  },
  {
   "cell_type": "markdown",
   "metadata": {},
   "source": [
    "3. `buscar_producto(self, nombre)`: Busca un producto en el inventario por nombre y muestra sus detalles si se encuentra. Debe recibir el nombre del producto como parámetro.\n",
    "\n",
    "            - Utiliza un bucle `for` para recorrer el inventario.\n",
    "\n",
    "            - Compara los nombres de los productos con el nombre proporcionado.\n",
    "\n",
    "            - Si se encuentra el producto, imprime sus detalles.\n",
    "\n",
    "            - Debe mostrar:\n",
    "\n",
    "                ```python\n",
    "                Nombre: Camisa, Precio: $20, Cantidad: 40"
   ]
  },
  {
   "cell_type": "code",
   "execution_count": 13,
   "metadata": {},
   "outputs": [],
   "source": [
    "def buscar_producto(nombre):\n",
    "   \n",
    "   for producto in inventario1:\n",
    "        if producto['nombre'].lower() == nombre.lower():\n",
    "            print(f\"Nombre: {producto['nombre']}, Precio: ${producto['precio']}, Cantidad: {producto['cantidad']}\")\n",
    "            return\n",
    "        print(\"Producto no encontrado.\")"
   ]
  },
  {
   "cell_type": "code",
   "execution_count": 14,
   "metadata": {},
   "outputs": [
    {
     "name": "stdout",
     "output_type": "stream",
     "text": [
      "Nombre: Manzanas, Precio: $2, Cantidad: 60\n"
     ]
    }
   ],
   "source": [
    "buscar_producto(\"manzanas\")"
   ]
  },
  {
   "cell_type": "code",
   "execution_count": 15,
   "metadata": {},
   "outputs": [
    {
     "name": "stdout",
     "output_type": "stream",
     "text": [
      "Producto no encontrado.\n"
     ]
    }
   ],
   "source": [
    "buscar_producto(\"peras\")"
   ]
  },
  {
   "cell_type": "markdown",
   "metadata": {},
   "source": [
    "\n",
    "        4. `actualizar_stock(self, nombre, cantidad)`: Actualiza el stock de un producto en el inventario. Debe recibir el nombre del producto y la cantidad a agregar o quitar como parámetros.\n",
    "\n",
    "           - Utiliza un bucle `for` para recorrer el inventario.\n",
    "\n",
    "           - Busca el producto por nombre.\n",
    "\n",
    "           - Actualiza la cantidad según la entrada del usuario.\n",
    "\n",
    "           - Si el producto no esta en el inventario muestra un mensaje indicándolo. "
   ]
  },
  {
   "cell_type": "code",
   "execution_count": 16,
   "metadata": {},
   "outputs": [],
   "source": [
    "def actualizar_stock(nombre, cantidad):\n",
    "    for producto in inventario1:\n",
    "        if producto['nombre'].lower() == nombre.lower():\n",
    "            producto['cantidad'] += cantidad\n",
    "            print(f\"Stock actualizado: {producto['nombre']} ahora tiene {producto['cantidad']} unidades.\")\n",
    "            return\n",
    "        print(f\"El producto '{nombre}' no está en el inventario.\")"
   ]
  },
  {
   "cell_type": "code",
   "execution_count": 17,
   "metadata": {},
   "outputs": [
    {
     "name": "stdout",
     "output_type": "stream",
     "text": [
      "Stock actualizado: Manzanas ahora tiene 104 unidades.\n"
     ]
    }
   ],
   "source": [
    "actualizar_stock(\"manzanas\", 44)"
   ]
  },
  {
   "cell_type": "code",
   "execution_count": 18,
   "metadata": {},
   "outputs": [
    {
     "data": {
      "text/plain": [
       "[{'nombre': 'Manzanas', 'precio': 2, 'cantidad': 104}]"
      ]
     },
     "execution_count": 18,
     "metadata": {},
     "output_type": "execute_result"
    }
   ],
   "source": [
    "inventario1"
   ]
  },
  {
   "cell_type": "markdown",
   "metadata": {},
   "source": [
    " 5. `eliminar_producto(self, nombre)`: Elimina un producto del inventario por nombre. Debe recibir el nombre del producto como parámetro.\n",
    "\n",
    "            - Utiliza un bucle `for` para recorrer el inventario.\n",
    "\n",
    "            - Busca el producto por nombre.\n",
    "\n",
    "            - Elimina el producto del inventario si existe.\n",
    "\n",
    "            - Si el producto no esta en el inventario muestra un mensaje indicándolo. "
   ]
  },
  {
   "cell_type": "code",
   "execution_count": 19,
   "metadata": {},
   "outputs": [],
   "source": [
    "def eliminar_productos(nombre):\n",
    "    \n",
    "    for producto in inventario1:\n",
    "        \n",
    "        if producto [\"nombre\"].lower() == nombre.lower():\n",
    "            inventario1.remove(producto)\n",
    "            print(\"El producto se ha eliminado\")\n",
    "        return\n",
    "    print(\"El producto no se ha encontrado\")\n",
    "        "
   ]
  },
  {
   "cell_type": "code",
   "execution_count": 20,
   "metadata": {},
   "outputs": [
    {
     "name": "stdout",
     "output_type": "stream",
     "text": [
      "El producto se ha eliminado\n",
      "El producto no se ha encontrado\n"
     ]
    }
   ],
   "source": [
    "eliminar_productos(\"manzanas\")\n",
    "inventario1\n",
    "eliminar_productos(\"peras\")"
   ]
  },
  {
   "cell_type": "markdown",
   "metadata": {},
   "source": [
    "6. `calcular_valor_inventario(self)`: Calcula y muestra el valor total del inventario.\n",
    "\n",
    "            - Utiliza un bucle for para calcular el valor total del inventario.\n",
    "\n",
    "            - Itera a través del inventario y suma el valor de cada producto (precio x cantidad). Es decir, calcula el valor total del inventario. Ejemplo:\n",
    "\n",
    "                ```python\n",
    "                # si tenemos 5 camisas que valen 5 euros \n",
    "                # y 10 calcetines que valen 1 euro\n",
    "                # este método te tiene que devolver: 35 euros\n",
    "\n",
    "                valor_camisas = 5 * 5\n",
    "                valor_calcetines = 10 * 1\n",
    "\n",
    "                valor_camisas + valor_calcetines = 35"
   ]
  },
  {
   "cell_type": "code",
   "execution_count": 21,
   "metadata": {},
   "outputs": [],
   "source": [
    "def calcular_valor_inventario(inventario1):\n",
    "    valor_total = 0\n",
    "    # Iteramos sobre cada diccionario en la lista\n",
    "    for producto in inventario1:  \n",
    "        # Accedemos a 'precio' y 'cantidad'\n",
    "        valor_producto = producto['precio'] * producto['cantidad']  \n",
    "        # Sumamos el valor del producto al total\n",
    "        valor_total += valor_producto  \n",
    "        \n",
    "    return valor_total"
   ]
  },
  {
   "cell_type": "code",
   "execution_count": 22,
   "metadata": {},
   "outputs": [],
   "source": [
    "agregar_producto(\"manzanas\", 2, 70)"
   ]
  },
  {
   "cell_type": "code",
   "execution_count": 23,
   "metadata": {},
   "outputs": [
    {
     "data": {
      "text/plain": [
       "140"
      ]
     },
     "execution_count": 23,
     "metadata": {},
     "output_type": "execute_result"
    }
   ],
   "source": [
    "calcular_valor_inventario(inventario1)"
   ]
  },
  {
   "cell_type": "markdown",
   "metadata": {},
   "source": [
    "\n",
    "        7. `realizar_compra(self)`: Permite a un cliente realizar una compra seleccionando productos del inventario. Debe interactuar con el cliente para seleccionar productos y calcular el costo total de la compra.\n",
    "\n",
    "            - Utiliza un bucle `while` para permitir al cliente realizar múltiples compras.\n",
    "\n",
    "            - Muestra el inventario y solicita al cliente ingresar el nombre del producto que desea comprar.\n",
    "\n",
    "            - Registra los productos seleccionados en un carrito y actualiza el inventario.\n",
    "\n",
    "            - Calcula el costo total de la compra."
   ]
  },
  {
   "cell_type": "code",
   "execution_count": 24,
   "metadata": {},
   "outputs": [
    {
     "ename": "SyntaxError",
     "evalue": "invalid syntax (2789732414.py, line 1)",
     "output_type": "error",
     "traceback": [
      "\u001b[1;36m  Cell \u001b[1;32mIn[24], line 1\u001b[1;36m\u001b[0m\n\u001b[1;33m    esta aqui\u001b[0m\n\u001b[1;37m         ^\u001b[0m\n\u001b[1;31mSyntaxError\u001b[0m\u001b[1;31m:\u001b[0m invalid syntax\n"
     ]
    }
   ],
   "source": [
    "esta aqui"
   ]
  },
  {
   "cell_type": "code",
   "execution_count": 27,
   "metadata": {},
   "outputs": [],
   "source": [
    "def realizar_compra(inventario1):\n",
    "        while True:\n",
    "            ver_inventario\n",
    "            producto_seleccionado = input(\"Ingrese el nombre del producto que desea comprar\")\n",
    "\n",
    "            if producto_seleccionado in inventario1:\n",
    "                cantidad = int(input(f\"Ingrese la cantidad de {producto_seleccionado} que desea comprar: \"))\n",
    "                \n",
    "                if cantidad <= self.inventario[producto_seleccionado]['cantidad']:\n",
    "                    carrito.append((producto_seleccionado, cantidad))\n",
    "                    inventario[producto_seleccionado]['cantidad'] -= cantidad\n",
    "                    print(f\"{cantidad} de {producto_seleccionado} agregado al carrito.\")\n",
    "                else:\n",
    "                    print(\"No hay suficiente cantidad en el inventario.\")\n",
    "            else:\n",
    "                print(\"Producto no encontrado en el inventario.\")\n",
    "\n",
    "        calcular_total()"
   ]
  },
  {
   "cell_type": "code",
   "execution_count": null,
   "metadata": {},
   "outputs": [
    {
     "name": "stdout",
     "output_type": "stream",
     "text": [
      "Producto no encontrado en el inventario.\n",
      "Producto no encontrado en el inventario.\n",
      "Producto no encontrado en el inventario.\n"
     ]
    }
   ],
   "source": [
    "realizar_compra(inventario1)"
   ]
  },
  {
   "cell_type": "code",
   "execution_count": 25,
   "metadata": {},
   "outputs": [
    {
     "data": {
      "text/plain": [
       "[{'nombre': 'manzanas', 'precio': 2, 'cantidad': 70}]"
      ]
     },
     "execution_count": 25,
     "metadata": {},
     "output_type": "execute_result"
    }
   ],
   "source": [
    "inventario1"
   ]
  }
 ],
 "metadata": {
  "kernelspec": {
   "display_name": "base",
   "language": "python",
   "name": "python3"
  },
  "language_info": {
   "codemirror_mode": {
    "name": "ipython",
    "version": 3
   },
   "file_extension": ".py",
   "mimetype": "text/x-python",
   "name": "python",
   "nbconvert_exporter": "python",
   "pygments_lexer": "ipython3",
   "version": "3.12.4"
  }
 },
 "nbformat": 4,
 "nbformat_minor": 2
}
