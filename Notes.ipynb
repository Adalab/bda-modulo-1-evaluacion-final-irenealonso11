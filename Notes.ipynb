{
 "cells": [
  {
   "cell_type": "markdown",
   "metadata": {},
   "source": [
    "La clase `TiendaOnline` debe tener los siguientes atributos:\n",
    "\n",
    "        1. `inventario` (lista de diccionarios): Un atributo para almacenar los productos en el inventario. Cada producto debe ser representado como un diccionario con las siguientes claves: `'nombre'`, `'precio'`, y `'cantidad'`. Al principio deberá ser una lista vacía. Ejemplo de como debería ser:\n",
    "\n",
    "            ```python\n",
    "            [{'nombre': 'Camisa', 'precio': 20, 'cantidad': 40},\n",
    "            {'nombre': 'Pantalón', 'precio': 30, 'cantidad': 30}]\n",
    "       \n",
    "        2. `clientes` (diccionario): Un atributo para llevar un registro de los clientes de la tienda. Cada cliente debe ser representado como un diccionario con las siguientes claves: `'nombre'` y `'email'`. Al inicio deberá ser un diccionario vacío. Además, cada cliente debe tener un historial de compras. Deberá parecerse a:\n",
    "\n",
    "            ```python\n",
    "            {'Cliente1': {'email': 'cliente1@email.com', 'compras': []},\n",
    "            'Cliente2': {'email': 'cliente2@email.com', 'compras': []}}\n",
    "            ```\n",
    "\n",
    "        3. `ventas_totales` (float): Un atributo para llevar un registro de las ventas totales de la tienda. Inicializalo con valor 0. \n",
    "            ```"
   ]
  },
  {
   "cell_type": "code",
   "execution_count": 153,
   "metadata": {},
   "outputs": [],
   "source": [
    "class TiendaOnline:\n",
    "    def __init__ (self):\n",
    "       \n",
    "        self.inventario = []\n",
    "        self.clientes = {}\n",
    "        self.ventas_totales = 0.00\n",
    "\n",
    "\n",
    "    def agregar_producto(self, nombre, precio, cantidad):\n",
    "\n",
    "        for producto in self.inventario:\n",
    "        #Verifica si el producto esta en el inventario.\n",
    "            if producto[\"nombre\"] == nombre:\n",
    "        #Si está en el inventario se actualiza.\n",
    "                producto[\"cantidad\"] += cantidad\n",
    "                print(f\"Cantidad de {nombre} actualizada.\")\n",
    "                return\n",
    "        #Hacemos diccionario, y agregamos al diccionario.\n",
    "        nuevo_producto = {\"nombre\": nombre , \"precio\": precio, \"cantidad\": cantidad}\n",
    "        \n",
    "        self.inventario.append(nuevo_producto)\n",
    "\n",
    "\n",
    "    def ver_inventario(self):\n",
    "         # Verificar si el inventario está vacío\n",
    "        if not self.inventario:\n",
    "            print(\"El inventario está vacío.\")\n",
    "            return\n",
    "    \n",
    "            # Iterar sobre el inventario y mostrar los detalles de cada producto\n",
    "            for producto in self.inventario:\n",
    "                print(f\"Nombre: {producto['nombre']}, Precio: ${producto['precio']}, Cantidad: {producto['cantidad']}\")\n",
    "\n",
    "\n"
   ]
  },
  {
   "cell_type": "code",
   "execution_count": 154,
   "metadata": {},
   "outputs": [
    {
     "data": {
      "text/plain": [
       "[{'nombre': 'peras', 'precio': 2, 'cantidad': 420}]"
      ]
     },
     "execution_count": 154,
     "metadata": {},
     "output_type": "execute_result"
    }
   ],
   "source": [
    "tienda =TiendaOnline()\n",
    "tienda.agregar_producto (\"peras\", 2, 420)\n",
    "tienda.inventario\n",
    "tienda.inventario"
   ]
  },
  {
   "cell_type": "code",
   "execution_count": 155,
   "metadata": {},
   "outputs": [
    {
     "name": "stdout",
     "output_type": "stream",
     "text": [
      "Cantidad de peras actualizada.\n"
     ]
    },
    {
     "data": {
      "text/plain": [
       "[{'nombre': 'peras', 'precio': 2, 'cantidad': 450}]"
      ]
     },
     "execution_count": 155,
     "metadata": {},
     "output_type": "execute_result"
    }
   ],
   "source": [
    "tienda.agregar_producto(\"peras\", 2, 30)\n",
    "tienda.inventario"
   ]
  },
  {
   "cell_type": "code",
   "execution_count": 156,
   "metadata": {},
   "outputs": [],
   "source": [
    "tienda.agregar_producto(\"naranjas\", 4, 60)"
   ]
  },
  {
   "cell_type": "code",
   "execution_count": 161,
   "metadata": {},
   "outputs": [],
   "source": [
    "tienda.ver_inventario()"
   ]
  },
  {
   "cell_type": "markdown",
   "metadata": {},
   "source": [
    " 1. `agregar_producto(self, nombre, precio, cantidad)`: Este método agrega un producto al inventario o actualiza su cantidad si ya existe. Debe recibir el nombre, precio y cantidad del producto como parámetros. \n",
    "\n",
    "            - Itera a través del inventario y compara los nombres de los productos con el nombre proporcionado.\n",
    "\n",
    "            - Si el producto ya existe, actualiza la cantidad.\n",
    "\n",
    "            - Si no existe, agrega un nuevo producto al inventario."
   ]
  },
  {
   "cell_type": "code",
   "execution_count": 129,
   "metadata": {},
   "outputs": [],
   "source": [
    "inventario1 = []"
   ]
  },
  {
   "cell_type": "code",
   "execution_count": 138,
   "metadata": {},
   "outputs": [],
   "source": [
    "def agregar_producto(nombre, precio, cantidad):\n",
    "\n",
    "    for producto in inventario1:\n",
    "        #Verifica si el producto esta en el inventario.\n",
    "        if producto[\"nombre\"] == nombre:\n",
    "        #Si está en el inventario se actualiza.\n",
    "            producto[\"cantidad\"] += cantidad\n",
    "            print(f\"Cantidad de {nombre} actualizada.\")\n",
    "        return\n",
    "\n",
    "    nuevo_producto = {\"nombre\": nombre , \"precio\": precio, \"cantidad\": cantidad}\n",
    "    inventario1.append(nuevo_producto)\n"
   ]
  },
  {
   "cell_type": "code",
   "execution_count": 139,
   "metadata": {},
   "outputs": [
    {
     "name": "stdout",
     "output_type": "stream",
     "text": [
      "Cantidad de Manzanas actualizada.\n"
     ]
    }
   ],
   "source": [
    "agregar_producto(\"Manzanas\", 2, 30 )"
   ]
  },
  {
   "cell_type": "code",
   "execution_count": 140,
   "metadata": {},
   "outputs": [
    {
     "data": {
      "text/plain": [
       "[{'nombre': 'Manzanas', 'precio': 2, 'cantidad': 90}]"
      ]
     },
     "execution_count": 140,
     "metadata": {},
     "output_type": "execute_result"
    }
   ],
   "source": [
    "inventario1"
   ]
  },
  {
   "cell_type": "code",
   "execution_count": 133,
   "metadata": {},
   "outputs": [
    {
     "name": "stdout",
     "output_type": "stream",
     "text": [
      "Cantidad de Manzanas actualizada.\n"
     ]
    }
   ],
   "source": [
    "agregar_producto(\"Manzanas\", 2, 30 )"
   ]
  },
  {
   "cell_type": "code",
   "execution_count": 134,
   "metadata": {},
   "outputs": [
    {
     "data": {
      "text/plain": [
       "[{'nombre': 'Manzanas', 'precio': 2, 'cantidad': 60}]"
      ]
     },
     "execution_count": 134,
     "metadata": {},
     "output_type": "execute_result"
    }
   ],
   "source": [
    "inventario1"
   ]
  },
  {
   "cell_type": "code",
   "execution_count": 135,
   "metadata": {},
   "outputs": [],
   "source": [
    "agregar_producto(\"peras\", 2, 6)"
   ]
  },
  {
   "cell_type": "code",
   "execution_count": 136,
   "metadata": {},
   "outputs": [
    {
     "data": {
      "text/plain": [
       "[{'nombre': 'Manzanas', 'precio': 2, 'cantidad': 60}]"
      ]
     },
     "execution_count": 136,
     "metadata": {},
     "output_type": "execute_result"
    }
   ],
   "source": [
    "inventario1"
   ]
  },
  {
   "cell_type": "markdown",
   "metadata": {},
   "source": [
    "\n",
    "        2. `ver_inventario(self)`: Muestra el inventario de productos con sus detalles.\n",
    "\n",
    "            - Utiliza un bucle `for` para recorrer el inventario.\n",
    "\n",
    "            - Imprime los detalles (nombre, precio, cantidad) de cada producto.\n",
    "\n",
    "            - Debería verse:\n",
    "\n",
    "                ```python\n",
    "                Nombre: Camisa, Precio: $20, Cantidad: 50\n",
    "                Nombre: Pantalón, Precio: $30, Cantidad: 30\n",
    "                Nombre: Zapatos, Precio: $50, Cantidad: 40\n",
    "                Nombre: Camisa, Precio: $20, Cantidad: 50"
   ]
  },
  {
   "cell_type": "code",
   "execution_count": 145,
   "metadata": {},
   "outputs": [],
   "source": [
    "def ver_inventario(inventario1):\n",
    "    # Verificar si el inventario está vacío\n",
    "    if not inventario1:\n",
    "        print(\"El inventario está vacío.\")\n",
    "        return\n",
    "    \n",
    "    # Iterar sobre el inventario y mostrar los detalles de cada producto\n",
    "    for producto in inventario1:\n",
    "        print(f\"Nombre: {producto['nombre']}, Precio: ${producto['precio']}, Cantidad: {producto['cantidad']}\")\n",
    "\n"
   ]
  },
  {
   "cell_type": "markdown",
   "metadata": {},
   "source": [
    "3. `buscar_producto(self, nombre)`: Busca un producto en el inventario por nombre y muestra sus detalles si se encuentra. Debe recibir el nombre del producto como parámetro.\n",
    "\n",
    "            - Utiliza un bucle `for` para recorrer el inventario.\n",
    "\n",
    "            - Compara los nombres de los productos con el nombre proporcionado.\n",
    "\n",
    "            - Si se encuentra el producto, imprime sus detalles.\n",
    "\n",
    "            - Debe mostrar:\n",
    "\n",
    "                ```python\n",
    "                Nombre: Camisa, Precio: $20, Cantidad: 40"
   ]
  },
  {
   "cell_type": "code",
   "execution_count": null,
   "metadata": {},
   "outputs": [],
   "source": []
  }
 ],
 "metadata": {
  "kernelspec": {
   "display_name": "base",
   "language": "python",
   "name": "python3"
  },
  "language_info": {
   "codemirror_mode": {
    "name": "ipython",
    "version": 3
   },
   "file_extension": ".py",
   "mimetype": "text/x-python",
   "name": "python",
   "nbconvert_exporter": "python",
   "pygments_lexer": "ipython3",
   "version": "3.12.4"
  }
 },
 "nbformat": 4,
 "nbformat_minor": 2
}
