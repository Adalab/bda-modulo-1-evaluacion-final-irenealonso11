{
 "cells": [
  {
   "cell_type": "markdown",
   "metadata": {},
   "source": []
  },
  {
   "cell_type": "code",
   "execution_count": 1,
   "metadata": {},
   "outputs": [],
   "source": [
    "class TiendaOnline:\n",
    "    def __init__ (self):\n",
    "       \n",
    "        self.inventario = []\n",
    "        self.clientes = {}\n",
    "        self.ventas_totales = 0.00\n",
    "\n",
    "\n",
    "    def agregar_producto(self, nombre, precio, cantidad):\n",
    "\n",
    "        for producto in self.inventario:\n",
    "        #Verifica si el producto esta en el inventario.\n",
    "            if producto[\"nombre\"] == nombre:\n",
    "        #Si está en el inventario se actualiza.\n",
    "                producto[\"cantidad\"] += cantidad\n",
    "                print(f\"Cantidad de {nombre} actualizada.\")\n",
    "                return\n",
    "        #Hacemos diccionario, y agregamos al diccionario.\n",
    "        nuevo_producto = {\"nombre\": nombre , \"precio\": precio, \"cantidad\": cantidad}\n",
    "        \n",
    "        self.inventario.append(nuevo_producto)"
   ]
  }
 ],
 "metadata": {
  "kernelspec": {
   "display_name": "base",
   "language": "python",
   "name": "python3"
  },
  "language_info": {
   "codemirror_mode": {
    "name": "ipython",
    "version": 3
   },
   "file_extension": ".py",
   "mimetype": "text/x-python",
   "name": "python",
   "nbconvert_exporter": "python",
   "pygments_lexer": "ipython3",
   "version": "3.12.4"
  }
 },
 "nbformat": 4,
 "nbformat_minor": 2
}
